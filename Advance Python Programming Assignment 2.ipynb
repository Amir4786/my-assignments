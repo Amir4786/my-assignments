{
 "cells": [
  {
   "cell_type": "code",
   "execution_count": 53,
   "metadata": {},
   "outputs": [],
   "source": [
    "#Q1\n",
    "def pentagonal(x):\n",
    "    a=1\n",
    "    n=0\n",
    "    if x<1:\n",
    "        print('Number of Dots will be: 0')\n",
    "    else:\n",
    "        while n<x:\n",
    "            c=5*n\n",
    "            a+=c\n",
    "            n+=1\n",
    "        print(\"Number of Dots will be: \",a)"
   ]
  },
  {
   "cell_type": "code",
   "execution_count": 62,
   "metadata": {},
   "outputs": [
    {
     "name": "stdout",
     "output_type": "stream",
     "text": [
      "Number of Dots will be:  24751\n"
     ]
    }
   ],
   "source": [
    "pentagonal(100)"
   ]
  },
  {
   "cell_type": "code",
   "execution_count": 244,
   "metadata": {},
   "outputs": [],
   "source": [
    "#Q2\n",
    "def encrypt():\n",
    "    g=['a','e','i','o','u']\n",
    "    c=[]\n",
    "    b=input('Write a Word: ')\n",
    "    v=b[::-1]\n",
    "#Step 1\n",
    "    print('In revere order your word would be: ',v)\n",
    "    for i in v:\n",
    "        if i=='a':\n",
    "            c.append('0')\n",
    "        if i=='e':\n",
    "            c.append('1')\n",
    "        if i=='i':\n",
    "            c.append('2')\n",
    "        if i=='o':\n",
    "            c.append('2')\n",
    "        if i=='u':\n",
    "            c.append('3')\n",
    "        if i!='a' and i!='e' and i!='i' and i!='o' and i!='u':\n",
    "            c.append(i)\n",
    "    d=f\"'After Replacing Vowels: ',{''.join(c)}\"\n",
    "    print(d)\n",
    "    e=''.join(c)+'aca'\n",
    "    print('Adding \"aca\" in the end: ',e)"
   ]
  },
  {
   "cell_type": "code",
   "execution_count": 247,
   "metadata": {},
   "outputs": [
    {
     "name": "stdout",
     "output_type": "stream",
     "text": [
      "Write a Word: apple\n",
      "In revere order your word would be:  elppa\n",
      "'After Replacing Vowels: ',1lpp0\n",
      "Adding \"aca\" in the end:  1lpp0aca\n"
     ]
    }
   ],
   "source": [
    "encrypt()"
   ]
  },
  {
   "cell_type": "code",
   "execution_count": 251,
   "metadata": {},
   "outputs": [],
   "source": [
    "#Q3\n",
    "import datetime\n",
    "import time\n",
    "def friday_13(months, years):\n",
    "    a=datetime.datetime(years,months,13)\n",
    "    if a.weekday()==4:\n",
    "        print(True)\n",
    "    else:\n",
    "        print(False)"
   ]
  },
  {
   "cell_type": "code",
   "execution_count": 260,
   "metadata": {},
   "outputs": [
    {
     "name": "stdout",
     "output_type": "stream",
     "text": [
      "True\n"
     ]
    }
   ],
   "source": [
    "friday_13(3,2020)"
   ]
  },
  {
   "cell_type": "code",
   "execution_count": 280,
   "metadata": {},
   "outputs": [
    {
     "name": "stdout",
     "output_type": "stream",
     "text": [
      "<re.Match object; span=(12, 23), match='bad cookies'>\n",
      "No of bad cookies producing in a day:  1\n"
     ]
    }
   ],
   "source": [
    "#Q4\n",
    "c=[\"good cookies\",\"bad cookies\",\"good cookies\"]\n",
    "d=\"\".join(c)\n",
    "i=[]\n",
    "import re\n",
    "j=re.compile(r\"bad cookies\")\n",
    "matches=j.finditer(d)\n",
    "for match in matches:\n",
    "    i.append(match)\n",
    "    print(match)\n",
    "print(\"No of bad cookies producing in a day: \",len(i))"
   ]
  },
  {
   "cell_type": "code",
   "execution_count": 475,
   "metadata": {},
   "outputs": [],
   "source": [
    "#Q5\n",
    "def plur(x):\n",
    "    h=[]\n",
    "    j=[]\n",
    "    for i in x:\n",
    "        if x.count(i)>1:\n",
    "            if i[-1]!='s' and i[-1]!='y' and i[-2:]!='fe':\n",
    "                h.append(i+'s')\n",
    "            if i[-1]=='s' and i[-2:]!='es':\n",
    "                h.append(i+'es')\n",
    "            if i[-2:]=='fe':\n",
    "                h.append(i[0:-2]+'ves')\n",
    "        else:\n",
    "            h.append(i)\n",
    "    for i in h:\n",
    "        if i not in j:\n",
    "            j.append(i)\n",
    "    print(j)"
   ]
  },
  {
   "cell_type": "code",
   "execution_count": 476,
   "metadata": {},
   "outputs": [
    {
     "name": "stdout",
     "output_type": "stream",
     "text": [
      "['bad', 'table', 'cats', 'dogs', 'buses']\n"
     ]
    }
   ],
   "source": [
    "plur(a)"
   ]
  },
  {
   "cell_type": "code",
   "execution_count": 477,
   "metadata": {},
   "outputs": [
    {
     "name": "stdout",
     "output_type": "stream",
     "text": [
      "['tables']\n"
     ]
    }
   ],
   "source": [
    "plur(['table','table','table'])"
   ]
  },
  {
   "cell_type": "code",
   "execution_count": 478,
   "metadata": {},
   "outputs": [
    {
     "name": "stdout",
     "output_type": "stream",
     "text": [
      "['pigs', 'cow', 'wives', 'buses', 'knives']\n"
     ]
    }
   ],
   "source": [
    "plur(['pig','cow','pig','wife','bus','wife','bus','knife','knife','bus'])"
   ]
  },
  {
   "cell_type": "code",
   "execution_count": 460,
   "metadata": {},
   "outputs": [
    {
     "data": {
      "text/plain": [
       "['bad', 'table', 'cat', 'dog', 'bus', 'cat', 'dog', 'fly', 'dog', 'fly', 'bus']"
      ]
     },
     "execution_count": 460,
     "metadata": {},
     "output_type": "execute_result"
    }
   ],
   "source": [
    "a"
   ]
  },
  {
   "cell_type": "code",
   "execution_count": 451,
   "metadata": {},
   "outputs": [
    {
     "data": {
      "text/plain": [
       "['dog', 'fly', 'bus']"
      ]
     },
     "execution_count": 451,
     "metadata": {},
     "output_type": "execute_result"
    }
   ],
   "source": [
    "a[-3:]"
   ]
  },
  {
   "cell_type": "code",
   "execution_count": null,
   "metadata": {},
   "outputs": [],
   "source": []
  }
 ],
 "metadata": {
  "kernelspec": {
   "display_name": "Python 3",
   "language": "python",
   "name": "python3"
  },
  "language_info": {
   "codemirror_mode": {
    "name": "ipython",
    "version": 3
   },
   "file_extension": ".py",
   "mimetype": "text/x-python",
   "name": "python",
   "nbconvert_exporter": "python",
   "pygments_lexer": "ipython3",
   "version": "3.8.5"
  }
 },
 "nbformat": 4,
 "nbformat_minor": 4
}
