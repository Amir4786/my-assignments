{
 "cells": [
  {
   "cell_type": "code",
   "execution_count": 5,
   "metadata": {},
   "outputs": [],
   "source": [
    "#Q1\n",
    "def arithmetic_operation(x):\n",
    "    try:\n",
    "        if eval(x)>=0:\n",
    "            return eval(x)\n",
    "    except Exception as ZeroDivisionError:\n",
    "        return -1"
   ]
  },
  {
   "cell_type": "code",
   "execution_count": 20,
   "metadata": {},
   "outputs": [
    {
     "data": {
      "text/plain": [
       "-1"
      ]
     },
     "execution_count": 20,
     "metadata": {},
     "output_type": "execute_result"
    }
   ],
   "source": [
    "arithmetic_operation(\"60//0\")"
   ]
  },
  {
   "cell_type": "code",
   "execution_count": 60,
   "metadata": {},
   "outputs": [],
   "source": [
    "#Q2\n",
    "def perimeter(a):\n",
    "    b=((a[1][0]-a[0][0])**2 + (a[1][1]-a[0][1])**2)**0.5 + ((a[2][0]-a[1][0])**2 + (a[2][1]-a[1][1])**2)**0.5 + ((a[0][0]-a[2][0])**2 + (a[0][1]-a[2][1])**2)**0.5\n",
    "    return round(b,2)"
   ]
  },
  {
   "cell_type": "code",
   "execution_count": 61,
   "metadata": {},
   "outputs": [],
   "source": [
    "a=[[15,7],[5,22],[11,1]]\n",
    "b=[[0,0],[0,1],[1,0]]\n",
    "c=[[-10,-10],[10,10],[-10,10]]"
   ]
  },
  {
   "cell_type": "code",
   "execution_count": 62,
   "metadata": {},
   "outputs": [
    {
     "data": {
      "text/plain": [
       "47.08"
      ]
     },
     "execution_count": 62,
     "metadata": {},
     "output_type": "execute_result"
    }
   ],
   "source": [
    "perimeter(a)"
   ]
  },
  {
   "cell_type": "code",
   "execution_count": 63,
   "metadata": {},
   "outputs": [
    {
     "data": {
      "text/plain": [
       "3.41"
      ]
     },
     "execution_count": 63,
     "metadata": {},
     "output_type": "execute_result"
    }
   ],
   "source": [
    "perimeter(b)"
   ]
  },
  {
   "cell_type": "code",
   "execution_count": 64,
   "metadata": {},
   "outputs": [
    {
     "data": {
      "text/plain": [
       "68.28"
      ]
     },
     "execution_count": 64,
     "metadata": {},
     "output_type": "execute_result"
    }
   ],
   "source": [
    "perimeter(c)"
   ]
  },
  {
   "cell_type": "code",
   "execution_count": 352,
   "metadata": {},
   "outputs": [],
   "source": [
    "#Q3\n",
    "import numpy as np\n",
    "def tallest_skyscraper(x):\n",
    "    b=[]\n",
    "    a=np.array(x)\n",
    "    for i in a:\n",
    "        for j in i:\n",
    "            if j!=0:\n",
    "                if j!=1:\n",
    "                    b.append(j)\n",
    "    if len(b)>0:\n",
    "        print(\"Invalid Input\")\n",
    "        print(\"Input must be of Boolean values\")\n",
    "    else:\n",
    "        print(max(a.sum(axis=0)))"
   ]
  },
  {
   "cell_type": "code",
   "execution_count": 361,
   "metadata": {},
   "outputs": [],
   "source": [
    "d=[[1,1,1,1,0,1,0],[1,0,1,0,0,0,0],[1,1,1,0,0,1,1]]"
   ]
  },
  {
   "cell_type": "code",
   "execution_count": 362,
   "metadata": {},
   "outputs": [
    {
     "name": "stdout",
     "output_type": "stream",
     "text": [
      "3\n"
     ]
    }
   ],
   "source": [
    "tallest_skyscraper(d)"
   ]
  },
  {
   "cell_type": "code",
   "execution_count": 385,
   "metadata": {},
   "outputs": [],
   "source": [
    "#Q4\n",
    "def bonus(x):\n",
    "    if x<33 and x>=0:\n",
    "        return 0\n",
    "    if x>=33 and x<40:\n",
    "        return 325*(x-32)\n",
    "    if x>=40 and x<48:\n",
    "        return 8*325+(x-40)*550\n",
    "    if x>=48:\n",
    "        return 8*325+8*550+(x-48)*600"
   ]
  },
  {
   "cell_type": "code",
   "execution_count": 392,
   "metadata": {},
   "outputs": [
    {
     "data": {
      "text/plain": [
       "8200"
      ]
     },
     "execution_count": 392,
     "metadata": {},
     "output_type": "execute_result"
    }
   ],
   "source": [
    "bonus(50)"
   ]
  },
  {
   "cell_type": "code",
   "execution_count": 461,
   "metadata": {},
   "outputs": [],
   "source": [
    "#Q5\n",
    "def is_disarium(x):\n",
    "    d=[]\n",
    "    c=[]\n",
    "    a=str(x)\n",
    "    for i in a:\n",
    "        c.append(eval(i))\n",
    "    for i in c:\n",
    "        b=i**(c.index(i)+1)\n",
    "        d.append(b)\n",
    "    v=sum(d)\n",
    "    if v==x:\n",
    "        print(True)\n",
    "    else:\n",
    "        print(False)"
   ]
  },
  {
   "cell_type": "code",
   "execution_count": 477,
   "metadata": {},
   "outputs": [
    {
     "name": "stdout",
     "output_type": "stream",
     "text": [
      "True\n"
     ]
    }
   ],
   "source": [
    "is_disarium(518)"
   ]
  },
  {
   "cell_type": "code",
   "execution_count": null,
   "metadata": {},
   "outputs": [],
   "source": []
  }
 ],
 "metadata": {
  "kernelspec": {
   "display_name": "Python 3",
   "language": "python",
   "name": "python3"
  },
  "language_info": {
   "codemirror_mode": {
    "name": "ipython",
    "version": 3
   },
   "file_extension": ".py",
   "mimetype": "text/x-python",
   "name": "python",
   "nbconvert_exporter": "python",
   "pygments_lexer": "ipython3",
   "version": "3.8.5"
  }
 },
 "nbformat": 4,
 "nbformat_minor": 4
}
