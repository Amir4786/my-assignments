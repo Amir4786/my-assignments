{
 "cells": [
  {
   "cell_type": "markdown",
   "metadata": {},
   "source": [
    "1. Create a function in python to read the text file and replace specific content of the file."
   ]
  },
  {
   "cell_type": "code",
   "execution_count": 88,
   "metadata": {},
   "outputs": [
    {
     "name": "stdout",
     "output_type": "stream",
     "text": [
      "Write the name of file you want to create: \n",
      "example\n",
      "Write a text for your file: \n",
      "This is a placement assignment\n",
      "This is a placement assignment\n",
      "Which word would you like to replace: \n",
      "placement\n",
      "Write the new word: \n",
      "screening\n"
     ]
    },
    {
     "data": {
      "text/plain": [
       "'This is a screening assignment'"
      ]
     },
     "execution_count": 88,
     "metadata": {},
     "output_type": "execute_result"
    }
   ],
   "source": [
    "try:\n",
    "    file=input(\"Write the name of file you want to create: \\n\")\n",
    "    f1=open(file+str(\".txt\"),\"w\")\n",
    "    write=input(\"Write a text for your file: \\n\")\n",
    "    f1.write(write)\n",
    "    f1.close()\n",
    "    f2=open(file+str(\".txt\"),\"r\")\n",
    "    f3=f2.read()\n",
    "    print(f3)\n",
    "    replaced_word=input(\"Which word would you like to replace: \\n\")\n",
    "    new_word=input(\"Write the new word: \\n\")\n",
    "    f3=f3.replace(replaced_word,new_word)\n",
    "    f4=open(file+str(\".txt\"),\"w\")\n",
    "    f4.write(f3)\n",
    "    f4.close()\n",
    "except Exception as e:\n",
    "    print(e)\n",
    "file1=open(file+str(\".txt\"),\"r\")\n",
    "file1.read()"
   ]
  },
  {
   "cell_type": "markdown",
   "metadata": {},
   "source": [
    "2. Demonstrate use of abstract class, multiple inheritance and decorator in python using examples."
   ]
  },
  {
   "cell_type": "code",
   "execution_count": 257,
   "metadata": {},
   "outputs": [],
   "source": [
    "## Abstract Class: It enforces a class to define all the functions of its upper class to get the output.\n",
    "# Example:\n",
    "from abc import ABCMeta, abstractmethod #anstractmethod is a Decorator here\n",
    "\n",
    "class shape(metaclass=ABCMeta):\n",
    "    @abstractmethod\n",
    "    def print_area(self):\n",
    "        print(\"Shape with no edges\")\n",
    "class circle(shape):\n",
    "    def __init__(self):\n",
    "        self.Diameter=5\n",
    "    #def print_area(self):\n",
    "        #return 22*(self.Diameter)**2/(7*4)"
   ]
  },
  {
   "cell_type": "code",
   "execution_count": 258,
   "metadata": {},
   "outputs": [
    {
     "ename": "TypeError",
     "evalue": "Can't instantiate abstract class circle with abstract methods print_area",
     "output_type": "error",
     "traceback": [
      "\u001b[1;31m---------------------------------------------------------------------------\u001b[0m",
      "\u001b[1;31mTypeError\u001b[0m                                 Traceback (most recent call last)",
      "\u001b[1;32m<ipython-input-258-5b9b48815489>\u001b[0m in \u001b[0;36m<module>\u001b[1;34m\u001b[0m\n\u001b[1;32m----> 1\u001b[1;33m \u001b[0mc1\u001b[0m\u001b[1;33m=\u001b[0m\u001b[0mcircle\u001b[0m\u001b[1;33m(\u001b[0m\u001b[1;33m)\u001b[0m\u001b[1;33m\u001b[0m\u001b[1;33m\u001b[0m\u001b[0m\n\u001b[0m",
      "\u001b[1;31mTypeError\u001b[0m: Can't instantiate abstract class circle with abstract methods print_area"
     ]
    }
   ],
   "source": [
    "c1=circle()"
   ]
  },
  {
   "cell_type": "code",
   "execution_count": 152,
   "metadata": {},
   "outputs": [],
   "source": [
    "class shape(metaclass=ABCMeta):\n",
    "    @abstractmethod\n",
    "    def print_area(self):\n",
    "        print(\"Shape with no edges\")\n",
    "class circle(shape):\n",
    "    def __init__(self):\n",
    "        self.Diameter=5\n",
    "    def print_area(self):\n",
    "        return 22*(self.Diameter)**2/(7*4)\n",
    "    #here print_area is anstract or meta class without which the function is not possible"
   ]
  },
  {
   "cell_type": "code",
   "execution_count": 153,
   "metadata": {},
   "outputs": [],
   "source": [
    "c2=circle()"
   ]
  },
  {
   "cell_type": "code",
   "execution_count": 154,
   "metadata": {},
   "outputs": [
    {
     "data": {
      "text/plain": [
       "19.642857142857142"
      ]
     },
     "execution_count": 154,
     "metadata": {},
     "output_type": "execute_result"
    }
   ],
   "source": [
    "c2.print_area()"
   ]
  },
  {
   "cell_type": "code",
   "execution_count": 243,
   "metadata": {},
   "outputs": [],
   "source": [
    "## Multiple Inheritance: MH defines a parent child relation in a class.\n",
    "## Child class has all the properties of parents class\n",
    "## Example:\n",
    "class phones:\n",
    "    def __init__(self,camera):\n",
    "        self.camera=camera\n",
    "        camera=2\n",
    "    def phone(self):\n",
    "        print(\"This is a Phone with number of cameras: \",self.camera)\n",
    "class IPhone(phones):\n",
    "    def __init__(self,price,camera):\n",
    "        self.camera=camera\n",
    "        self.price=price\n",
    "        price=50000\n",
    "    def iphone(self):\n",
    "        print(\"This is an Iphone at rupees: \",self.price)\n",
    "class SmartPhone(phones):\n",
    "    def __init__(self,camera,version):\n",
    "        self.camera=camera\n",
    "        self.version=version\n",
    "        version=5\n",
    "    def version_01(self):\n",
    "        print(\"This is a SmartPhone of version: \",self.version)\n",
    "class IPod(IPhone,SmartPhone):\n",
    "    def __init__(self,price,camera,version,plugs):\n",
    "        self.price=price\n",
    "        self.camera=camera\n",
    "        self.version=version\n",
    "        self.plugs=plugs\n",
    "    def ipod(self):\n",
    "        print(\"This is an IPod with plugs: \",self.plugs)"
   ]
  },
  {
   "cell_type": "code",
   "execution_count": 244,
   "metadata": {},
   "outputs": [],
   "source": [
    "p1=phones(3)"
   ]
  },
  {
   "cell_type": "code",
   "execution_count": 245,
   "metadata": {},
   "outputs": [
    {
     "name": "stdout",
     "output_type": "stream",
     "text": [
      "This is a Phone with number of cameras:  3\n"
     ]
    }
   ],
   "source": [
    "p1.phone()"
   ]
  },
  {
   "cell_type": "code",
   "execution_count": 246,
   "metadata": {},
   "outputs": [],
   "source": [
    "i1=IPhone(20000,6)"
   ]
  },
  {
   "cell_type": "code",
   "execution_count": 247,
   "metadata": {},
   "outputs": [
    {
     "name": "stdout",
     "output_type": "stream",
     "text": [
      "This is an Iphone at rupees:  20000\n"
     ]
    }
   ],
   "source": [
    "i1.iphone()"
   ]
  },
  {
   "cell_type": "code",
   "execution_count": 248,
   "metadata": {},
   "outputs": [],
   "source": [
    "ipod1=IPod(1000,4,2,2)"
   ]
  },
  {
   "cell_type": "code",
   "execution_count": 249,
   "metadata": {},
   "outputs": [
    {
     "name": "stdout",
     "output_type": "stream",
     "text": [
      "This is a Phone with number of cameras:  4\n"
     ]
    }
   ],
   "source": [
    "ipod1.phone()"
   ]
  },
  {
   "cell_type": "code",
   "execution_count": 250,
   "metadata": {},
   "outputs": [
    {
     "name": "stdout",
     "output_type": "stream",
     "text": [
      "This is an Iphone at rupees:  1000\n"
     ]
    }
   ],
   "source": [
    "ipod1.iphone()"
   ]
  },
  {
   "cell_type": "code",
   "execution_count": 251,
   "metadata": {},
   "outputs": [
    {
     "name": "stdout",
     "output_type": "stream",
     "text": [
      "This is an IPod with plugs:  2\n"
     ]
    }
   ],
   "source": [
    "ipod1.ipod()"
   ]
  },
  {
   "cell_type": "code",
   "execution_count": 252,
   "metadata": {},
   "outputs": [],
   "source": [
    "Iphone=IPhone(30000,3)\n",
    "SmrtPhn=SmartPhone(4,1)"
   ]
  },
  {
   "cell_type": "code",
   "execution_count": 253,
   "metadata": {},
   "outputs": [],
   "source": [
    "ipod2=IPod(30000,3,1,2)"
   ]
  },
  {
   "cell_type": "code",
   "execution_count": 255,
   "metadata": {},
   "outputs": [
    {
     "name": "stdout",
     "output_type": "stream",
     "text": [
      "This is a SmartPhone of version:  1\n"
     ]
    }
   ],
   "source": [
    "ipod2.version_01()"
   ]
  },
  {
   "cell_type": "markdown",
   "metadata": {},
   "source": [
    " Here ipod inherit the properties of IPhones and SmartPhones which are inherting properties of upper class phones"
   ]
  },
  {
   "cell_type": "markdown",
   "metadata": {},
   "source": [
    "## Decorators\n",
    "Decorators are called to those who modify the functionality of a function\n",
    "One example had been used in the class function above in the first part of this query\n",
    "Example:"
   ]
  },
  {
   "cell_type": "code",
   "execution_count": 301,
   "metadata": {},
   "outputs": [
    {
     "name": "stdout",
     "output_type": "stream",
     "text": [
      "1\n",
      "4\n",
      "36\n",
      "81\n",
      "49\n"
     ]
    }
   ],
   "source": [
    "x=[1,2,6,9,7]\n",
    "y=lambda x:x**2\n",
    "for i in x:\n",
    "    print(y(i))\n",
    "# here lambda function y is modified by list x"
   ]
  },
  {
   "cell_type": "code",
   "execution_count": null,
   "metadata": {},
   "outputs": [],
   "source": []
  },
  {
   "cell_type": "code",
   "execution_count": null,
   "metadata": {},
   "outputs": [],
   "source": []
  }
 ],
 "metadata": {
  "kernelspec": {
   "display_name": "Python 3",
   "language": "python",
   "name": "python3"
  },
  "language_info": {
   "codemirror_mode": {
    "name": "ipython",
    "version": 3
   },
   "file_extension": ".py",
   "mimetype": "text/x-python",
   "name": "python",
   "nbconvert_exporter": "python",
   "pygments_lexer": "ipython3",
   "version": "3.8.5"
  }
 },
 "nbformat": 4,
 "nbformat_minor": 4
}
